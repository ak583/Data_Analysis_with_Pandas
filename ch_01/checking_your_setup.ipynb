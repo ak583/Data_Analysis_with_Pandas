{
 "cells": [
  {
   "cell_type": "markdown",
   "metadata": {},
   "source": [
    "# Checking your setup\n",
    "Run through this notebook to make sure your environment is properly setup. Be sure to launch Jupyter from inside the virtual environment."
   ]
  },
  {
   "cell_type": "code",
   "execution_count": 2,
   "metadata": {},
   "outputs": [
    {
     "name": "stdout",
     "output_type": "stream",
     "text": [
      "Using Python in /Users/andreas/Coding/Data Analysis/Pandas/book_env:\n",
      "\u001b[42m[ OK ]\u001b[0m Python is version 3.11.1 (main, Dec 10 2022, 19:20:39) [Clang 10.0.0 (clang-1000.11.45.5)]\n",
      "\n",
      "\u001b[41m[FAIL]\u001b[0m graphviz not installed.\n",
      "\u001b[41m[FAIL]\u001b[0m imblearn not installed.\n",
      "\u001b[41m[FAIL]\u001b[0m ipympl not installed.\n",
      "\u001b[41m[FAIL]\u001b[0m jupyterlab version 3.0.4 is required, but 3.5.1 installed.\n",
      "\u001b[41m[FAIL]\u001b[0m matplotlib not installed.\n",
      "\u001b[41m[FAIL]\u001b[0m numpy not installed.\n",
      "\u001b[41m[FAIL]\u001b[0m pandas not installed.\n",
      "\u001b[41m[FAIL]\u001b[0m requests version 2.24.0 is required, but 2.28.1 installed.\n",
      "\u001b[41m[FAIL]\u001b[0m sklearn not installed.\n",
      "\u001b[41m[FAIL]\u001b[0m scipy not installed.\n",
      "\u001b[41m[FAIL]\u001b[0m seaborn not installed.\n",
      "\u001b[41m[FAIL]\u001b[0m sqlalchemy not installed.\n",
      "\u001b[41m[FAIL]\u001b[0m statsmodels not installed.\n",
      "\u001b[41m[FAIL]\u001b[0m wheel not installed.\n",
      "\u001b[41m[FAIL]\u001b[0m login_attempt_simulator not installed.\n",
      "\u001b[41m[FAIL]\u001b[0m ml_utils not installed.\n",
      "\u001b[41m[FAIL]\u001b[0m stock_analysis not installed.\n",
      "\u001b[41m[FAIL]\u001b[0m visual_aids not installed.\n"
     ]
    }
   ],
   "source": [
    "from check_environment import run_checks\n",
    "run_checks()"
   ]
  },
  {
   "cell_type": "markdown",
   "metadata": {},
   "source": [
    "*Note: Adapted from Andreas Mueller's [`check_env.ipynb` notebook](https://github.com/amueller/ml-workshop-1-of-4/blob/master/check_env.ipynb).*\n",
    "\n",
    "<hr>\n",
    "<div style=\"overflow: hidden; margin-bottom: 10px;\">\n",
    "    <div style=\"float: left;\">\n",
    "         <a href=\"./introduction_to_data_analysis.ipynb\">\n",
    "            <button>&#8592; Introduction to Data Analysis</button>\n",
    "        </a>\n",
    "    </div>\n",
    "    <div style=\"float: right;\">\n",
    "        <a href=\"./python_101.ipynb\">\n",
    "            <button>Python 101</button>\n",
    "        </a>\n",
    "        <a href=\"./exercises.ipynb\">\n",
    "            <button>Exercises &#8594;</button>\n",
    "        </a>\n",
    "    </div>\n",
    "</div>\n",
    "<hr>"
   ]
  }
 ],
 "metadata": {
  "kernelspec": {
   "display_name": "Python 3 (ipykernel)",
   "language": "python",
   "name": "python3"
  },
  "language_info": {
   "codemirror_mode": {
    "name": "ipython",
    "version": 3
   },
   "file_extension": ".py",
   "mimetype": "text/x-python",
   "name": "python",
   "nbconvert_exporter": "python",
   "pygments_lexer": "ipython3",
   "version": "3.11.1"
  }
 },
 "nbformat": 4,
 "nbformat_minor": 4
}
