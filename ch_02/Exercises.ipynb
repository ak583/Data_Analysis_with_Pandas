{
 "cells": [
  {
   "attachments": {},
   "cell_type": "markdown",
   "metadata": {},
   "source": [
    "## Exercise 1\n",
    "\n",
    "Find the 95th percentile of earthquake magnitude in Japan using the mb\n",
    "magnitude type."
   ]
  },
  {
   "cell_type": "code",
   "execution_count": 192,
   "metadata": {},
   "outputs": [],
   "source": [
    "#Import libraries\n",
    "import pandas as pd\n",
    "import numpy as np\n",
    "\n",
    "#Rad data file\n",
    "df=pd.read_csv('data/parsed.csv')"
   ]
  },
  {
   "attachments": {},
   "cell_type": "markdown",
   "metadata": {},
   "source": [
    "### Solution 1"
   ]
  },
  {
   "cell_type": "code",
   "execution_count": 193,
   "metadata": {},
   "outputs": [
    {
     "data": {
      "text/plain": [
       "mag    4.9\n",
       "Name: 0.95, dtype: float64"
      ]
     },
     "execution_count": 193,
     "metadata": {},
     "output_type": "execute_result"
    }
   ],
   "source": [
    "df.loc[\n",
    "    (df.type=='earthquake') & (df.parsed_place=='Japan') & (df.magType=='mb'), ['mag']\n",
    "    ].quantile(0.95)"
   ]
  },
  {
   "attachments": {},
   "cell_type": "markdown",
   "metadata": {},
   "source": [
    "### Solution 2"
   ]
  },
  {
   "cell_type": "code",
   "execution_count": 194,
   "metadata": {},
   "outputs": [
    {
     "data": {
      "text/plain": [
       "4.9"
      ]
     },
     "execution_count": 194,
     "metadata": {},
     "output_type": "execute_result"
    }
   ],
   "source": [
    "perc_Japan = df.mag[(df.type.str.contains('earthquake')) & (df.parsed_place.str.contains('Japan')) & (df.magType.str.contains(\"mb\"))].quantile(0.95)\n",
    "perc_Japan"
   ]
  },
  {
   "attachments": {},
   "cell_type": "markdown",
   "metadata": {},
   "source": [
    "## Exercise 2\n",
    "Find the percentage of earthquakes in Indonesia that were coupled with tsunamis.\n"
   ]
  },
  {
   "cell_type": "code",
   "execution_count": 195,
   "metadata": {},
   "outputs": [
    {
     "name": "stdout",
     "output_type": "stream",
     "text": [
      "Percentage of earthquakes in Indonesia that were coupled with tsunamis is: 23.12925170068027 %\n"
     ]
    }
   ],
   "source": [
    "#Number of earthquakes on Indonesia\n",
    "earthq_in=df.loc[\n",
    "    (df.type=='earthquake') & (df.parsed_place=='Indonesia'), ['parsed_place']\n",
    "    ].count()\n",
    "#Number of earthquakes on Indonesia couples with tsunamis\n",
    "earthq_in_ts=df.loc[\n",
    "    (df.type=='earthquake') & (df.parsed_place=='Indonesia') & (df.tsunami == 1), ['parsed_place']\n",
    "    ].count()\n",
    "\n",
    "print('Percentage of earthquakes in Indonesia that were coupled with tsunamis is:', 100*earthq_in_ts[0]/earthq_in[0], '%') if earthq_in[0]!=0 else print('Percentage of earthquakes in Indonesia that were coupled with tsunamis is: 0')\n"
   ]
  },
  {
   "attachments": {},
   "cell_type": "markdown",
   "metadata": {},
   "source": [
    "## Exercise 3\n",
    "Calculate summary statistics for earthquakes in Nevada"
   ]
  },
  {
   "cell_type": "code",
   "execution_count": 196,
   "metadata": {},
   "outputs": [
    {
     "data": {
      "text/html": [
       "<div>\n",
       "<style scoped>\n",
       "    .dataframe tbody tr th:only-of-type {\n",
       "        vertical-align: middle;\n",
       "    }\n",
       "\n",
       "    .dataframe tbody tr th {\n",
       "        vertical-align: top;\n",
       "    }\n",
       "\n",
       "    .dataframe thead th {\n",
       "        text-align: right;\n",
       "    }\n",
       "</style>\n",
       "<table border=\"1\" class=\"dataframe\">\n",
       "  <thead>\n",
       "    <tr style=\"text-align: right;\">\n",
       "      <th></th>\n",
       "      <th>cdi</th>\n",
       "      <th>dmin</th>\n",
       "      <th>felt</th>\n",
       "      <th>gap</th>\n",
       "      <th>mag</th>\n",
       "      <th>mmi</th>\n",
       "      <th>nst</th>\n",
       "      <th>rms</th>\n",
       "      <th>sig</th>\n",
       "      <th>time</th>\n",
       "      <th>tsunami</th>\n",
       "      <th>tz</th>\n",
       "      <th>updated</th>\n",
       "    </tr>\n",
       "  </thead>\n",
       "  <tbody>\n",
       "    <tr>\n",
       "      <th>count</th>\n",
       "      <td>14.000000</td>\n",
       "      <td>647.000000</td>\n",
       "      <td>14.000000</td>\n",
       "      <td>647.000000</td>\n",
       "      <td>647.000000</td>\n",
       "      <td>1.00</td>\n",
       "      <td>647.000000</td>\n",
       "      <td>647.000000</td>\n",
       "      <td>647.000000</td>\n",
       "      <td>6.470000e+02</td>\n",
       "      <td>647.0</td>\n",
       "      <td>647.0</td>\n",
       "      <td>6.470000e+02</td>\n",
       "    </tr>\n",
       "    <tr>\n",
       "      <th>mean</th>\n",
       "      <td>2.421429</td>\n",
       "      <td>0.163155</td>\n",
       "      <td>2.500000</td>\n",
       "      <td>154.436615</td>\n",
       "      <td>0.437311</td>\n",
       "      <td>2.84</td>\n",
       "      <td>12.704791</td>\n",
       "      <td>0.140627</td>\n",
       "      <td>9.146832</td>\n",
       "      <td>1.538318e+12</td>\n",
       "      <td>0.0</td>\n",
       "      <td>-480.0</td>\n",
       "      <td>1.538409e+12</td>\n",
       "    </tr>\n",
       "    <tr>\n",
       "      <th>std</th>\n",
       "      <td>0.514675</td>\n",
       "      <td>0.161793</td>\n",
       "      <td>4.783787</td>\n",
       "      <td>69.474945</td>\n",
       "      <td>0.653397</td>\n",
       "      <td>NaN</td>\n",
       "      <td>10.052695</td>\n",
       "      <td>0.056765</td>\n",
       "      <td>17.939055</td>\n",
       "      <td>5.954980e+08</td>\n",
       "      <td>0.0</td>\n",
       "      <td>0.0</td>\n",
       "      <td>5.991682e+08</td>\n",
       "    </tr>\n",
       "    <tr>\n",
       "      <th>min</th>\n",
       "      <td>2.000000</td>\n",
       "      <td>0.001000</td>\n",
       "      <td>1.000000</td>\n",
       "      <td>29.140000</td>\n",
       "      <td>-0.500000</td>\n",
       "      <td>2.84</td>\n",
       "      <td>3.000000</td>\n",
       "      <td>0.000500</td>\n",
       "      <td>0.000000</td>\n",
       "      <td>1.537247e+12</td>\n",
       "      <td>0.0</td>\n",
       "      <td>-480.0</td>\n",
       "      <td>1.537323e+12</td>\n",
       "    </tr>\n",
       "    <tr>\n",
       "      <th>25%</th>\n",
       "      <td>2.000000</td>\n",
       "      <td>0.053000</td>\n",
       "      <td>1.000000</td>\n",
       "      <td>97.295000</td>\n",
       "      <td>-0.100000</td>\n",
       "      <td>2.84</td>\n",
       "      <td>6.000000</td>\n",
       "      <td>0.104400</td>\n",
       "      <td>0.000000</td>\n",
       "      <td>1.537859e+12</td>\n",
       "      <td>0.0</td>\n",
       "      <td>-480.0</td>\n",
       "      <td>1.537928e+12</td>\n",
       "    </tr>\n",
       "    <tr>\n",
       "      <th>50%</th>\n",
       "      <td>2.200000</td>\n",
       "      <td>0.109000</td>\n",
       "      <td>1.000000</td>\n",
       "      <td>150.040000</td>\n",
       "      <td>0.300000</td>\n",
       "      <td>2.84</td>\n",
       "      <td>9.000000</td>\n",
       "      <td>0.142900</td>\n",
       "      <td>1.000000</td>\n",
       "      <td>1.538286e+12</td>\n",
       "      <td>0.0</td>\n",
       "      <td>-480.0</td>\n",
       "      <td>1.538428e+12</td>\n",
       "    </tr>\n",
       "    <tr>\n",
       "      <th>75%</th>\n",
       "      <td>3.000000</td>\n",
       "      <td>0.223000</td>\n",
       "      <td>1.000000</td>\n",
       "      <td>200.515000</td>\n",
       "      <td>0.800000</td>\n",
       "      <td>2.84</td>\n",
       "      <td>16.000000</td>\n",
       "      <td>0.181050</td>\n",
       "      <td>10.000000</td>\n",
       "      <td>1.538824e+12</td>\n",
       "      <td>0.0</td>\n",
       "      <td>-480.0</td>\n",
       "      <td>1.538878e+12</td>\n",
       "    </tr>\n",
       "    <tr>\n",
       "      <th>max</th>\n",
       "      <td>3.300000</td>\n",
       "      <td>1.414000</td>\n",
       "      <td>19.000000</td>\n",
       "      <td>355.910000</td>\n",
       "      <td>2.900000</td>\n",
       "      <td>2.84</td>\n",
       "      <td>61.000000</td>\n",
       "      <td>0.340000</td>\n",
       "      <td>129.000000</td>\n",
       "      <td>1.539461e+12</td>\n",
       "      <td>0.0</td>\n",
       "      <td>-480.0</td>\n",
       "      <td>1.539483e+12</td>\n",
       "    </tr>\n",
       "  </tbody>\n",
       "</table>\n",
       "</div>"
      ],
      "text/plain": [
       "             cdi        dmin       felt         gap         mag   mmi  \\\n",
       "count  14.000000  647.000000  14.000000  647.000000  647.000000  1.00   \n",
       "mean    2.421429    0.163155   2.500000  154.436615    0.437311  2.84   \n",
       "std     0.514675    0.161793   4.783787   69.474945    0.653397   NaN   \n",
       "min     2.000000    0.001000   1.000000   29.140000   -0.500000  2.84   \n",
       "25%     2.000000    0.053000   1.000000   97.295000   -0.100000  2.84   \n",
       "50%     2.200000    0.109000   1.000000  150.040000    0.300000  2.84   \n",
       "75%     3.000000    0.223000   1.000000  200.515000    0.800000  2.84   \n",
       "max     3.300000    1.414000  19.000000  355.910000    2.900000  2.84   \n",
       "\n",
       "              nst         rms         sig          time  tsunami     tz  \\\n",
       "count  647.000000  647.000000  647.000000  6.470000e+02    647.0  647.0   \n",
       "mean    12.704791    0.140627    9.146832  1.538318e+12      0.0 -480.0   \n",
       "std     10.052695    0.056765   17.939055  5.954980e+08      0.0    0.0   \n",
       "min      3.000000    0.000500    0.000000  1.537247e+12      0.0 -480.0   \n",
       "25%      6.000000    0.104400    0.000000  1.537859e+12      0.0 -480.0   \n",
       "50%      9.000000    0.142900    1.000000  1.538286e+12      0.0 -480.0   \n",
       "75%     16.000000    0.181050   10.000000  1.538824e+12      0.0 -480.0   \n",
       "max     61.000000    0.340000  129.000000  1.539461e+12      0.0 -480.0   \n",
       "\n",
       "            updated  \n",
       "count  6.470000e+02  \n",
       "mean   1.538409e+12  \n",
       "std    5.991682e+08  \n",
       "min    1.537323e+12  \n",
       "25%    1.537928e+12  \n",
       "50%    1.538428e+12  \n",
       "75%    1.538878e+12  \n",
       "max    1.539483e+12  "
      ]
     },
     "execution_count": 196,
     "metadata": {},
     "output_type": "execute_result"
    }
   ],
   "source": [
    "df[(df.type.str.contains('earthquake')) & (df.parsed_place.str.contains('Nevada'))].describe()"
   ]
  },
  {
   "attachments": {},
   "cell_type": "markdown",
   "metadata": {},
   "source": [
    "## Exercise 4\n",
    "Add a column indicating whether the earthquake happened in a country or US state that is on the Ring of Fire. Use Alaska, Antarctica (look for Antarctic), Bolivia, California, Canada, Chile, Costa Rica, Ecuador, Fiji, Guatemala, Indonesia, Japan, Kermadec Islands, Mexico (be careful not to select New Mexico), New Zealand, Peru, Philippines, Russia, Taiwan, Tonga, and Washington."
   ]
  },
  {
   "cell_type": "code",
   "execution_count": 197,
   "metadata": {},
   "outputs": [],
   "source": [
    "ring_of_fire=['Alaska', 'Pacific-Antarctic Ridge', 'Western Indian-Antarctic Ridge', 'Bolivia', 'California', 'Canada', 'Chile', 'Costa Rica', 'Ecuador', 'Fiji', 'Guatemala', 'Indonesia', 'Japan', 'Kermadec Islands', 'Mexico', 'New Zealand', 'Peru', 'Philippines', 'Russia', 'Taiwan', 'Tonga', 'Washington']\n",
    "# df.parsed_place[df.parsed_place.isin(ring_of_fire)].value_counts().sort_values()\n",
    "# df.assign(in_ridge_of_fire=df.parsed_place.isin(ring_of_fire)).sample(20, random_state=0)\n",
    "df=df.assign(in_ridge_of_fire=df.parsed_place.isin(ring_of_fire))\n",
    "\n"
   ]
  },
  {
   "attachments": {},
   "cell_type": "markdown",
   "metadata": {},
   "source": [
    "## Exercise 5\n",
    "Calculate the number of earthquakes in the Ring of Fire locations and the number outside of them."
   ]
  },
  {
   "cell_type": "code",
   "execution_count": 198,
   "metadata": {},
   "outputs": [
    {
     "name": "stdout",
     "output_type": "stream",
     "text": [
      "Number of earthquakes in the Ring of Fire locations: 7004 \n",
      "Number of earthquakes outside the Ring of Fire locations: 2077\n"
     ]
    }
   ],
   "source": [
    "eartq_in=df.type[(df.type.str.contains('earthquake')) & df.in_ridge_of_fire].count()\n",
    "earthq_out=df.type[(df.type.str.contains('earthquake')) & ~df.in_ridge_of_fire].count()\n",
    "\n",
    "print('Number of earthquakes in the Ring of Fire locations:', eartq_in, '\\nNumber of earthquakes outside the Ring of Fire locations:', earthq_out)"
   ]
  },
  {
   "attachments": {},
   "cell_type": "markdown",
   "metadata": {},
   "source": [
    "## Exercise 6\n",
    "Find the tsunami count along the Ring of Fire."
   ]
  },
  {
   "cell_type": "code",
   "execution_count": 199,
   "metadata": {},
   "outputs": [
    {
     "name": "stdout",
     "output_type": "stream",
     "text": [
      "Tsunami count along the ridge of fire= 45\n"
     ]
    }
   ],
   "source": [
    "tsu_cnt=df.loc[\n",
    "    (df.tsunami==1) & (df.in_ridge_of_fire), ['place']\n",
    "].count()\n",
    "\n",
    "print('Tsunami count along the ridge of fire=', tsu_cnt[0])"
   ]
  }
 ],
 "metadata": {
  "kernelspec": {
   "display_name": "Python 3",
   "language": "python",
   "name": "python3"
  },
  "language_info": {
   "codemirror_mode": {
    "name": "ipython",
    "version": 3
   },
   "file_extension": ".py",
   "mimetype": "text/x-python",
   "name": "python",
   "nbconvert_exporter": "python",
   "pygments_lexer": "ipython3",
   "version": "3.11.1 (main, Dec 10 2022, 19:20:39) [Clang 10.0.0 (clang-1000.11.45.5)]"
  },
  "orig_nbformat": 4,
  "vscode": {
   "interpreter": {
    "hash": "34bfcd3736e1c155faf90612df44109bd694ea1f762b17d873c5b68332ded343"
   }
  }
 },
 "nbformat": 4,
 "nbformat_minor": 2
}
